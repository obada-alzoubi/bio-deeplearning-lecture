{
 "cells": [
  {
   "cell_type": "code",
   "execution_count": 1,
   "id": "2f05e88c-0cfd-439c-b001-d85fee9b0bf5",
   "metadata": {},
   "outputs": [
    {
     "name": "stderr",
     "output_type": "stream",
     "text": [
      "2023-03-11 18:48:39.691830: I tensorflow/core/platform/cpu_feature_guard.cc:193] This TensorFlow binary is optimized with oneAPI Deep Neural Network Library (oneDNN) to use the following CPU instructions in performance-critical operations:  AVX2 AVX_VNNI FMA\n",
      "To enable them in other operations, rebuild TensorFlow with the appropriate compiler flags.\n",
      "2023-03-11 18:48:39.781270: I tensorflow/core/util/port.cc:104] oneDNN custom operations are on. You may see slightly different numerical results due to floating-point round-off errors from different computation orders. To turn them off, set the environment variable `TF_ENABLE_ONEDNN_OPTS=0`.\n",
      "2023-03-11 18:48:39.785155: W tensorflow/compiler/xla/stream_executor/platform/default/dso_loader.cc:64] Could not load dynamic library 'libcudart.so.11.0'; dlerror: libcudart.so.11.0: cannot open shared object file: No such file or directory\n",
      "2023-03-11 18:48:39.785168: I tensorflow/compiler/xla/stream_executor/cuda/cudart_stub.cc:29] Ignore above cudart dlerror if you do not have a GPU set up on your machine.\n",
      "2023-03-11 18:48:40.270996: W tensorflow/compiler/xla/stream_executor/platform/default/dso_loader.cc:64] Could not load dynamic library 'libnvinfer.so.7'; dlerror: libnvinfer.so.7: cannot open shared object file: No such file or directory\n",
      "2023-03-11 18:48:40.271046: W tensorflow/compiler/xla/stream_executor/platform/default/dso_loader.cc:64] Could not load dynamic library 'libnvinfer_plugin.so.7'; dlerror: libnvinfer_plugin.so.7: cannot open shared object file: No such file or directory\n",
      "2023-03-11 18:48:40.271050: W tensorflow/compiler/tf2tensorrt/utils/py_utils.cc:38] TF-TRT Warning: Cannot dlopen some TensorRT libraries. If you would like to use Nvidia GPU with TensorRT, please make sure the missing libraries mentioned above are installed properly.\n"
     ]
    }
   ],
   "source": [
    "import tensorflow\n",
    "import sklearn as sk\n",
    "import numpy as np"
   ]
  },
  {
   "cell_type": "code",
   "execution_count": 2,
   "id": "b2cb7a79-f273-451f-bd26-4d8ff96bc84b",
   "metadata": {},
   "outputs": [],
   "source": [
    "import deepchem as dc\n",
    "\n",
    "# import image module\n",
    "from IPython.display import Image\n",
    "  \n"
   ]
  },
  {
   "cell_type": "markdown",
   "id": "5c7e55d5-1719-4b15-8ca2-0a9ba4990af5",
   "metadata": {},
   "source": [
    "# Install Needed Libraries"
   ]
  },
  {
   "cell_type": "code",
   "execution_count": 2,
   "id": "62b1accf-499c-4c62-b702-f99cf0b44c0f",
   "metadata": {},
   "outputs": [],
   "source": [
    "#!pip install deepchem==2.4.0"
   ]
  },
  {
   "cell_type": "markdown",
   "id": "27f3b59d-5108-4108-8eba-598f782ba0c3",
   "metadata": {},
   "source": [
    "## Intro to DeepChem"
   ]
  },
  {
   "cell_type": "code",
   "execution_count": 4,
   "id": "8d6468ca-e38d-4630-8c95-f808bc9668a7",
   "metadata": {},
   "outputs": [],
   "source": [
    "x = np.random.random((4, 5))\n",
    "y = np.random.random((4, 1))"
   ]
  },
  {
   "cell_type": "code",
   "execution_count": 5,
   "id": "a2c4c6b8-8407-4d7f-afed-b6d4342d9a9b",
   "metadata": {},
   "outputs": [
    {
     "data": {
      "text/plain": [
       "array([[0.30527717, 0.0835809 , 0.67932212, 0.93149473, 0.87936275],\n",
       "       [0.60161455, 0.20126002, 0.61024546, 0.48603644, 0.37632475],\n",
       "       [0.26715922, 0.58853312, 0.11126857, 0.70918932, 0.50646938],\n",
       "       [0.47823493, 0.74983965, 0.0633327 , 0.51113341, 0.78004665]])"
      ]
     },
     "execution_count": 5,
     "metadata": {},
     "output_type": "execute_result"
    }
   ],
   "source": [
    "x"
   ]
  },
  {
   "cell_type": "code",
   "execution_count": 6,
   "id": "a2ec3d71-ebe7-4f64-88f1-f1b0d821bea1",
   "metadata": {},
   "outputs": [
    {
     "data": {
      "text/plain": [
       "array([[0.69080916],\n",
       "       [0.8356498 ],\n",
       "       [0.64067021],\n",
       "       [0.62592553]])"
      ]
     },
     "execution_count": 6,
     "metadata": {},
     "output_type": "execute_result"
    }
   ],
   "source": [
    "y"
   ]
  },
  {
   "cell_type": "code",
   "execution_count": 7,
   "id": "ccff1beb-5b3f-4178-8c65-c03fb0c93654",
   "metadata": {},
   "outputs": [],
   "source": [
    "dataset = dc.data.NumpyDataset(x, y)"
   ]
  },
  {
   "cell_type": "code",
   "execution_count": 8,
   "id": "363949fc-041b-43a5-a0e6-70e3c915bc18",
   "metadata": {},
   "outputs": [
    {
     "name": "stdout",
     "output_type": "stream",
     "text": [
      "[[0.30527717 0.0835809  0.67932212 0.93149473 0.87936275]\n",
      " [0.60161455 0.20126002 0.61024546 0.48603644 0.37632475]\n",
      " [0.26715922 0.58853312 0.11126857 0.70918932 0.50646938]\n",
      " [0.47823493 0.74983965 0.0633327  0.51113341 0.78004665]]\n"
     ]
    }
   ],
   "source": [
    "print(dataset.X)"
   ]
  },
  {
   "cell_type": "code",
   "execution_count": 9,
   "id": "c0eecc2a-1cda-4178-b250-c7f62ee68e00",
   "metadata": {},
   "outputs": [
    {
     "name": "stdout",
     "output_type": "stream",
     "text": [
      "[[0.69080916]\n",
      " [0.8356498 ]\n",
      " [0.64067021]\n",
      " [0.62592553]]\n"
     ]
    }
   ],
   "source": [
    "print(dataset.y)"
   ]
  },
  {
   "cell_type": "markdown",
   "id": "e30bb209-290c-45df-a926-0a8df49350eb",
   "metadata": {},
   "source": [
    "## Featurizing Data"
   ]
  },
  {
   "cell_type": "code",
   "execution_count": 2,
   "id": "0b3b39f0",
   "metadata": {},
   "outputs": [],
   "source": [
    "# https://deepchem.readthedocs.io/en/latest/api_reference/featurizers.html?highlight=feat"
   ]
  },
  {
   "cell_type": "code",
   "execution_count": 34,
   "id": "7ee12b9a-c7da-4e4e-8cd5-cacbb47f61d0",
   "metadata": {},
   "outputs": [
    {
     "data": {
      "text/plain": [
       "5"
      ]
     },
     "execution_count": 34,
     "metadata": {},
     "output_type": "execute_result"
    }
   ],
   "source": [
    "smiles = [\n",
    "  'O=Cc1ccc(O)c(OC)c1',\n",
    "  'CN1CCC[C@H]1c2cccnc2',\n",
    "  'C1CCCCC1',\n",
    "  'c1ccccc1',\n",
    "  'CC(=O)O',\n",
    "]\n",
    "properties = [0.4, -1.5, 3.2, -0.2, 1.7]\n",
    "featurizer = dc.feat.CircularFingerprint(size=1024)\n",
    "ecfp = featurizer.featurize(smiles)\n",
    "ecfp.shape\n",
    "(5, 1024)\n",
    "dataset = dc.data.NumpyDataset(X=ecfp, y=np.array(properties))\n",
    "len(dataset)"
   ]
  },
  {
   "cell_type": "code",
   "execution_count": 10,
   "id": "234e3499-c47d-491e-9c83-2063ad9ba3c9",
   "metadata": {},
   "outputs": [
    {
     "name": "stderr",
     "output_type": "stream",
     "text": [
      "[14:44:27] WARNING: not removing hydrogen atom without neighbors\n",
      "[14:44:30] WARNING: not removing hydrogen atom without neighbors\n"
     ]
    }
   ],
   "source": [
    "tox21_tasks, tox21_datasets, transformers = dc.molnet.load_tox21()"
   ]
  },
  {
   "cell_type": "code",
   "execution_count": 11,
   "id": "9fc20a84-917c-464e-8e8f-9bfb4d186904",
   "metadata": {},
   "outputs": [
    {
     "data": {
      "text/plain": [
       "(<DiskDataset X.shape: (6264, 1024), y.shape: (6264, 12), w.shape: (6264, 12), task_names: ['NR-AR' 'NR-AR-LBD' 'NR-AhR' ... 'SR-HSE' 'SR-MMP' 'SR-p53']>,\n",
       " <DiskDataset X.shape: (783, 1024), y.shape: (783, 12), w.shape: (783, 12), ids: ['N#C[C@@H]1CC(F)(F)CN1C(=O)CNC1CC2CCC(C1)N2c1ncccn1'\n",
       "  'CN(C)C(=O)NC1(c2ccccc2)CCN(CCC[C@@]2(c3ccc(Cl)c(Cl)c3)CCCN(C(=O)c3ccccc3)C2)CC1'\n",
       "  'CSc1nnc(C(C)(C)C)c(=O)n1N' ...\n",
       "  'O=C(O[C@H]1CN2CCC1CC2)N1CCc2ccccc2[C@@H]1c1ccccc1'\n",
       "  'C#C[C@]1(O)CC[C@H]2[C@@H]3CCC4=CC(=O)CC[C@@H]4[C@H]3C(=C)C[C@@]21CC'\n",
       "  'NC(=O)C(c1ccccc1)(c1ccccc1)[C@@H]1CCN(CCc2ccc3c(c2)CCO3)C1'], task_names: ['NR-AR' 'NR-AR-LBD' 'NR-AhR' ... 'SR-HSE' 'SR-MMP' 'SR-p53']>,\n",
       " <DiskDataset X.shape: (784, 1024), y.shape: (784, 12), w.shape: (784, 12), ids: ['CC1(C)S[C@@H]2[C@H](NC(=O)Cc3ccccc3)C(=O)N2[C@H]1C(=O)O.CC1(C)S[C@@H]2[C@H](NC(=O)Cc3ccccc3)C(=O)N2[C@H]1C(=O)O.c1ccc(CNCCNCc2ccccc2)cc1'\n",
       "  'CC(C)(c1ccc(Oc2ccc3c(c2)C(=O)OC3=O)cc1)c1ccc(Oc2ccc3c(c2)C(=O)OC3=O)cc1'\n",
       "  'Cc1cc(C(C)(C)C)c(O)c(C)c1Cn1c(=O)n(Cc2c(C)cc(C(C)(C)C)c(O)c2C)c(=O)n(Cc2c(C)cc(C(C)(C)C)c(O)c2C)c1=O'\n",
       "  ... 'CN[C@@H]1C[C@@H](c2ccc(Cl)c(Cl)c2)c2ccccc21'\n",
       "  'Cl/C=C\\\\C[N+]12CN3CN(CN(C3)C1)C2'\n",
       "  'NC(=O)c1ccc[n+]([C@@H]2O[C@H](COP(=O)([O-])OP(=O)(O)OC[C@H]3O[C@@H](n4cnc5c(N)ncnc54)[C@H](O)[C@@H]3O)[C@@H](O)[C@H]2O)c1'], task_names: ['NR-AR' 'NR-AR-LBD' 'NR-AhR' ... 'SR-HSE' 'SR-MMP' 'SR-p53']>)"
      ]
     },
     "execution_count": 11,
     "metadata": {},
     "output_type": "execute_result"
    }
   ],
   "source": [
    "tox21_datasets"
   ]
  },
  {
   "cell_type": "code",
   "execution_count": 12,
   "id": "ed1ae23b-7672-4667-9662-e673b903100c",
   "metadata": {},
   "outputs": [],
   "source": [
    "train_dataset, valid_dataset, test_dataset = tox21_datasets"
   ]
  },
  {
   "cell_type": "code",
   "execution_count": 13,
   "id": "063dae5c-71aa-402c-b70e-e9b90bc34d62",
   "metadata": {},
   "outputs": [
    {
     "data": {
      "text/plain": [
       "(6264, 1024)"
      ]
     },
     "execution_count": 13,
     "metadata": {},
     "output_type": "execute_result"
    }
   ],
   "source": [
    "train_dataset.X.shape"
   ]
  },
  {
   "cell_type": "code",
   "execution_count": 14,
   "id": "c7832683-a89d-43a9-a88f-9aeb108e712b",
   "metadata": {},
   "outputs": [
    {
     "data": {
      "text/plain": [
       "(783, 1024)"
      ]
     },
     "execution_count": 14,
     "metadata": {},
     "output_type": "execute_result"
    }
   ],
   "source": [
    "valid_dataset.X.shape"
   ]
  },
  {
   "cell_type": "code",
   "execution_count": 15,
   "id": "470b649e-68e0-425a-bc40-fdf78ea47692",
   "metadata": {},
   "outputs": [
    {
     "data": {
      "text/plain": [
       "(784, 1024)"
      ]
     },
     "execution_count": 15,
     "metadata": {},
     "output_type": "execute_result"
    }
   ],
   "source": [
    "test_dataset.X.shape"
   ]
  },
  {
   "cell_type": "code",
   "execution_count": 16,
   "id": "235ffb1f-ac8a-48aa-bf7e-7f99c74b0790",
   "metadata": {},
   "outputs": [
    {
     "data": {
      "text/plain": [
       "(6264, 12)"
      ]
     },
     "execution_count": 16,
     "metadata": {},
     "output_type": "execute_result"
    }
   ],
   "source": [
    "np.shape(train_dataset.y)"
   ]
  },
  {
   "cell_type": "code",
   "execution_count": 26,
   "id": "eb3127ba-c224-4f2c-8515-7fa149e1d2ca",
   "metadata": {},
   "outputs": [
    {
     "data": {
      "text/plain": [
       "1127"
      ]
     },
     "execution_count": 26,
     "metadata": {},
     "output_type": "execute_result"
    }
   ],
   "source": [
    "np.sum(np.sum(train_dataset.y, axis=-1)>1)"
   ]
  },
  {
   "cell_type": "code",
   "execution_count": 17,
   "id": "036c4c2d-02ef-4bad-8d05-d42b8629fbf7",
   "metadata": {},
   "outputs": [
    {
     "data": {
      "text/plain": [
       "(783, 12)"
      ]
     },
     "execution_count": 17,
     "metadata": {},
     "output_type": "execute_result"
    }
   ],
   "source": [
    "np.shape(valid_dataset.y)"
   ]
  },
  {
   "cell_type": "code",
   "execution_count": 18,
   "id": "16d0a811-9f11-418d-b1c8-2309f9384228",
   "metadata": {},
   "outputs": [
    {
     "data": {
      "text/plain": [
       "(784, 12)"
      ]
     },
     "execution_count": 18,
     "metadata": {},
     "output_type": "execute_result"
    }
   ],
   "source": [
    "np.shape(test_dataset.y)"
   ]
  },
  {
   "cell_type": "markdown",
   "id": "fa835440-030f-4c22-b24e-37aae3ba045f",
   "metadata": {},
   "source": [
    "the actual experimental dataset for Tox21 did not\n",
    "test every molecule in every biological experiment. That means that some of these\n",
    "labels are meaningless placeholders. We simply don’t have any data for some properties\n",
    "of some molecules, so we need to ignore those elements of the arrays when training\n",
    "and testing the model."
   ]
  },
  {
   "cell_type": "code",
   "execution_count": null,
   "id": "2d857248-c3ab-4c45-8850-8535437acef0",
   "metadata": {},
   "outputs": [],
   "source": [
    "train_dataset.w.shape"
   ]
  },
  {
   "cell_type": "code",
   "execution_count": null,
   "id": "81be8ef4-6c06-44a3-98f6-8458d11aed18",
   "metadata": {},
   "outputs": [],
   "source": [
    "np.count_nonzero(train_dataset.w)"
   ]
  },
  {
   "cell_type": "code",
   "execution_count": null,
   "id": "ae6aa42a-de99-4521-8642-5c8fa61e158f",
   "metadata": {},
   "outputs": [],
   "source": [
    "np.count_nonzero(train_dataset.w == 0)"
   ]
  },
  {
   "cell_type": "markdown",
   "id": "c14ee22c-825d-4b53-bdea-a0d26afe3cda",
   "metadata": {},
   "source": [
    "### Machine Learning for Molecules"
   ]
  },
  {
   "cell_type": "markdown",
   "id": "44b0058e-d5e6-4109-ac5c-13f55841b706",
   "metadata": {},
   "source": [
    "#### Predict Solubility"
   ]
  },
  {
   "cell_type": "markdown",
   "id": "9037a4a8-f840-4714-b200-502dcfc30156",
   "metadata": {},
   "source": [
    "Solubility is the maximum amount of a substance that can be dissolved by a solvent at a given physical condition. Solubility is a property of chemical entities, which ranges from infinitely soluble to poorly soluble. Solubility depends on the physical and chemical properties of the solute and solvent."
   ]
  },
  {
   "cell_type": "code",
   "execution_count": 24,
   "id": "6f7978da-bf38-438f-8adf-6b7e4f3de03b",
   "metadata": {},
   "outputs": [
    {
     "name": "stdout",
     "output_type": "stream",
     "text": [
      "Training set score\n",
      "{'pearson_r2_score': 0.9156683527987952}\n",
      "Test set score\n",
      "{'pearson_r2_score': 0.6526927646295173}\n",
      "\n",
      "Molecule: COC(C)(C)CCCC(C)CC=CC(C)=CC(=O)OC(C)C\n",
      "Predicted solubility: [-0.98686576]\n",
      "\n",
      "Molecule: CCOC(=O)CC\n",
      "Predicted solubility: [1.5315404]\n",
      "\n",
      "Molecule: CSc1nc(NC(C)C)nc(NC(C)C)n1\n",
      "Predicted solubility: [0.29501712]\n",
      "\n",
      "Molecule: CC(C#C)N(C)C(=O)Nc1ccc(Cl)cc1\n",
      "Predicted solubility: [-0.58238685]\n",
      "\n",
      "Molecule: Cc1cc2ccccc2cc1C\n",
      "Predicted solubility: [-0.8599129]\n"
     ]
    }
   ],
   "source": [
    "# Train a neural network to predict the solubility of molecules.  First load the data.\n",
    "\n",
    "import deepchem as dc\n",
    "tasks, datasets, transformers = dc.molnet.load_delaney(featurizer='GraphConv')\n",
    "train_dataset, valid_dataset, test_dataset = datasets\n",
    "\n",
    "# Create and train the model.\n",
    "\n",
    "model = dc.models.GraphConvModel(n_tasks=1, mode='regression', dropout=0.2)\n",
    "model.fit(train_dataset, nb_epoch=100)\n",
    "\n",
    "# Evaluate it.\n",
    "\n",
    "metric = dc.metrics.Metric(dc.metrics.pearson_r2_score)\n",
    "print(\"Training set score\")\n",
    "print(model.evaluate(train_dataset, [metric], transformers))\n",
    "print(\"Test set score\")\n",
    "print(model.evaluate(test_dataset, [metric], transformers))\n",
    "\n",
    "# Use it to predict the solubility of some molecules.\n",
    "\n",
    "smiles = ['COC(C)(C)CCCC(C)CC=CC(C)=CC(=O)OC(C)C',\n",
    "          'CCOC(=O)CC',\n",
    "          'CSc1nc(NC(C)C)nc(NC(C)C)n1',\n",
    "          'CC(C#C)N(C)C(=O)Nc1ccc(Cl)cc1',\n",
    "          'Cc1cc2ccccc2cc1C']\n",
    "from rdkit import Chem\n",
    "mols = [Chem.MolFromSmiles(s) for s in smiles]\n",
    "featurizer = dc.feat.ConvMolFeaturizer()\n",
    "x = featurizer.featurize(mols)\n",
    "predicted_solubility = model.predict_on_batch(x)\n",
    "for m,s in zip(smiles, predicted_solubility):\n",
    "    print()\n",
    "    print('Molecule:', m)\n",
    "    print('Predicted solubility:', s)"
   ]
  },
  {
   "cell_type": "markdown",
   "id": "4c565842-95d8-485a-af41-b25430c1fc65",
   "metadata": {},
   "source": [
    "## Create Simple Model"
   ]
  },
  {
   "cell_type": "code",
   "execution_count": 35,
   "id": "d5b49f3c-f179-4a9a-b8a7-a02c470451d7",
   "metadata": {},
   "outputs": [],
   "source": [
    "model = dc.models.RobustMultitaskClassifier(n_tasks=12,\n",
    "n_features=1024,\n",
    "layer_sizes=[1000])"
   ]
  },
  {
   "cell_type": "markdown",
   "id": "bc0daf53-cdcd-4801-8ffe-897f8d1ac0b5",
   "metadata": {},
   "source": [
    "<ol>\n",
    "  <p>Parameters:</p>\n",
    "  <li>n_features.</li>\n",
    "  <p> The number of input features</p>\n",
    "  <li>layer_sizes:.</li>\n",
    "  <p>The size of the fully connected layer </p>\n",
    "  <li>n_tasks:</li>\n",
    "  <p> the number of tasks</p>\n",
    "</ol>\n",
    "\n"
   ]
  },
  {
   "cell_type": "code",
   "execution_count": 36,
   "id": "ea86f250-7f08-4800-96a0-063cf7ff9c18",
   "metadata": {},
   "outputs": [
    {
     "data": {
      "text/plain": [
       "0.4416459719340006"
      ]
     },
     "execution_count": 36,
     "metadata": {},
     "output_type": "execute_result"
    }
   ],
   "source": [
    "model.fit(train_dataset, nb_epoch=10)"
   ]
  },
  {
   "cell_type": "code",
   "execution_count": 37,
   "id": "743e8c72-1c5b-4148-b891-d8c781b71f6b",
   "metadata": {},
   "outputs": [],
   "source": [
    "metric = dc.metrics.Metric(dc.metrics.roc_auc_score, np.mean)"
   ]
  },
  {
   "cell_type": "code",
   "execution_count": 38,
   "id": "6aa575e3-1328-4318-9205-563ab4d46ea9",
   "metadata": {},
   "outputs": [],
   "source": [
    "train_scores = model.evaluate(train_dataset, [metric], transformers)\n",
    "test_scores = model.evaluate(test_dataset, [metric], transformers)"
   ]
  },
  {
   "cell_type": "code",
   "execution_count": 39,
   "id": "986cc0cf-56e9-4134-9078-77e0bba2fbbd",
   "metadata": {},
   "outputs": [
    {
     "name": "stdout",
     "output_type": "stream",
     "text": [
      "{'mean-roc_auc_score': 0.9661152264152691}\n"
     ]
    }
   ],
   "source": [
    "print(train_scores)"
   ]
  },
  {
   "cell_type": "code",
   "execution_count": 40,
   "id": "d48e8975-9a9d-400b-b7ea-cdb6f33eaa8b",
   "metadata": {},
   "outputs": [
    {
     "name": "stdout",
     "output_type": "stream",
     "text": [
      "{'mean-roc_auc_score': 0.6769928635761957}\n"
     ]
    }
   ],
   "source": [
    "print(test_scores)"
   ]
  },
  {
   "cell_type": "code",
   "execution_count": 42,
   "id": "e77698f2-ddaf-4ddd-b453-1b015abc013c",
   "metadata": {},
   "outputs": [],
   "source": [
    "predicted = model.predict(test_dataset, transformers)"
   ]
  },
  {
   "cell_type": "code",
   "execution_count": 44,
   "id": "7c65119e-cd2e-4382-9a55-906245e4455a",
   "metadata": {},
   "outputs": [
    {
     "data": {
      "text/plain": [
       "(784, 12, 2)"
      ]
     },
     "execution_count": 44,
     "metadata": {},
     "output_type": "execute_result"
    }
   ],
   "source": [
    "predicted.shape"
   ]
  },
  {
   "cell_type": "code",
   "execution_count": 62,
   "id": "2ec8ad22-80d4-4bf6-8c4a-70a3a6851cbc",
   "metadata": {},
   "outputs": [
    {
     "ename": "TypeError",
     "evalue": "GraphConvModel.__init__() missing 1 required positional argument: 'n_tasks'",
     "output_type": "error",
     "traceback": [
      "\u001b[1;31m---------------------------------------------------------------------------\u001b[0m",
      "\u001b[1;31mTypeError\u001b[0m                                 Traceback (most recent call last)",
      "Cell \u001b[1;32mIn[62], line 1\u001b[0m\n\u001b[1;32m----> 1\u001b[0m \u001b[43mdc\u001b[49m\u001b[38;5;241;43m.\u001b[39;49m\u001b[43mmodels\u001b[49m\u001b[38;5;241;43m.\u001b[39;49m\u001b[43mGraphConvModel\u001b[49m\u001b[43m(\u001b[49m\u001b[43m)\u001b[49m\n",
      "\u001b[1;31mTypeError\u001b[0m: GraphConvModel.__init__() missing 1 required positional argument: 'n_tasks'"
     ]
    }
   ],
   "source": [
    "dc.models.GraphConvModel()"
   ]
  },
  {
   "cell_type": "code",
   "execution_count": 6,
   "id": "4db3f982-9b3a-4bff-9052-ad6f6fd8915f",
   "metadata": {},
   "outputs": [
    {
     "data": {
      "text/plain": [
       "'2.4.0'"
      ]
     },
     "execution_count": 6,
     "metadata": {},
     "output_type": "execute_result"
    }
   ],
   "source": [
    "dc.__version__"
   ]
  },
  {
   "cell_type": "markdown",
   "id": "ff785b49-30e5-4db3-a58a-b3c2ebd47e57",
   "metadata": {},
   "source": [
    "## Genomic Prediction"
   ]
  },
  {
   "cell_type": "markdown",
   "id": "ad9185ea-a0c6-4f62-9e72-8a182305bfce",
   "metadata": {},
   "source": [
    "#### Prediction of Chrom Accessbility"
   ]
  },
  {
   "cell_type": "code",
   "execution_count": 23,
   "id": "4e2a554f-476d-4a9f-b75f-6ab9a0ec7e06",
   "metadata": {},
   "outputs": [
    {
     "data": {
      "text/html": [
       "<img src=\"assets/accessiblity.jpg\" width=\"600\" height=\"600\"/>"
      ],
      "text/plain": [
       "<IPython.core.display.Image object>"
      ]
     },
     "execution_count": 23,
     "metadata": {},
     "output_type": "execute_result"
    }
   ],
   "source": [
    "# get the image\n",
    "Image(url=\"assets/accessiblity.jpg\", width=600, height=600)"
   ]
  },
  {
   "cell_type": "markdown",
   "id": "e86923b4-1610-40f6-8edb-30401b490878",
   "metadata": {},
   "source": [
    "Chromatin is the complex of DNA and proteins that make up the chromosomes in a cell's nucleus. Chromatin can be more or less accessible, depending on the presence of specific proteins and chemical modifications. When chromatin is highly accessible, it is more likely to be transcribed into RNA. When it is less accessible, transcription is less likely to occur."
   ]
  },
  {
   "cell_type": "code",
   "execution_count": 3,
   "id": "cc983a18-8bc4-4d60-9e6e-58ef671fb798",
   "metadata": {},
   "outputs": [],
   "source": [
    "import deepchem as dc\n",
    "import tensorflow as tf\n",
    "import tensorflow.keras.layers as layers\n"
   ]
  },
  {
   "cell_type": "markdown",
   "id": "392d2c8b-4574-49aa-82aa-5635ab0d74ab",
   "metadata": {},
   "source": [
    "### Build Model"
   ]
  },
  {
   "cell_type": "code",
   "execution_count": 4,
   "id": "46810229-e2bf-4cd1-af75-58336fac6e38",
   "metadata": {},
   "outputs": [
    {
     "name": "stderr",
     "output_type": "stream",
     "text": [
      "2023-03-11 18:48:49.248197: I tensorflow/compiler/xla/stream_executor/cuda/cuda_gpu_executor.cc:967] could not open file to read NUMA node: /sys/bus/pci/devices/0000:01:00.0/numa_node\n",
      "Your kernel may have been built without NUMA support.\n",
      "2023-03-11 18:48:49.248328: W tensorflow/compiler/xla/stream_executor/platform/default/dso_loader.cc:64] Could not load dynamic library 'libcudart.so.11.0'; dlerror: libcudart.so.11.0: cannot open shared object file: No such file or directory\n",
      "2023-03-11 18:48:49.248364: W tensorflow/compiler/xla/stream_executor/platform/default/dso_loader.cc:64] Could not load dynamic library 'libcublas.so.11'; dlerror: libcublas.so.11: cannot open shared object file: No such file or directory\n",
      "2023-03-11 18:48:49.248389: W tensorflow/compiler/xla/stream_executor/platform/default/dso_loader.cc:64] Could not load dynamic library 'libcublasLt.so.11'; dlerror: libcublasLt.so.11: cannot open shared object file: No such file or directory\n",
      "2023-03-11 18:48:49.248411: W tensorflow/compiler/xla/stream_executor/platform/default/dso_loader.cc:64] Could not load dynamic library 'libcufft.so.10'; dlerror: libcufft.so.10: cannot open shared object file: No such file or directory\n",
      "2023-03-11 18:48:49.287284: W tensorflow/compiler/xla/stream_executor/platform/default/dso_loader.cc:64] Could not load dynamic library 'libcusparse.so.11'; dlerror: libcusparse.so.11: cannot open shared object file: No such file or directory\n",
      "2023-03-11 18:48:49.287335: W tensorflow/compiler/xla/stream_executor/platform/default/dso_loader.cc:64] Could not load dynamic library 'libcudnn.so.8'; dlerror: libcudnn.so.8: cannot open shared object file: No such file or directory\n",
      "2023-03-11 18:48:49.287344: W tensorflow/core/common_runtime/gpu/gpu_device.cc:1934] Cannot dlopen some GPU libraries. Please make sure the missing libraries mentioned above are installed properly if you would like to use GPU. Follow the guide at https://www.tensorflow.org/install/gpu for how to download and setup the required libraries for your platform.\n",
      "Skipping registering GPU devices...\n",
      "2023-03-11 18:48:49.287738: I tensorflow/core/platform/cpu_feature_guard.cc:193] This TensorFlow binary is optimized with oneAPI Deep Neural Network Library (oneDNN) to use the following CPU instructions in performance-critical operations:  AVX2 AVX_VNNI FMA\n",
      "To enable them in other operations, rebuild TensorFlow with the appropriate compiler flags.\n"
     ]
    }
   ],
   "source": [
    "features = tf.keras.Input(shape=(101, 4))\n",
    "prev = features\n",
    "for i in range(3):\n",
    "    prev = layers.Conv1D(filters=15, kernel_size=10, activation=tf.nn.relu, padding='same')(prev)\n",
    "    prev = layers.Dropout(rate=0.5)(prev)\n",
    "logits = layers.Dense(units=1)(layers.Flatten()(prev))\n",
    "output = layers.Activation(tf.math.sigmoid)(logits)\n",
    "keras_model = tf.keras.Model(inputs=features, outputs=[output, logits])\n",
    "model = dc.models.KerasModel(\n",
    "    keras_model,\n",
    "    loss=dc.models.losses.SigmoidCrossEntropy(),\n",
    "    output_types=['prediction', 'loss'],\n",
    "    batch_size=1000,\n",
    "    model_dir='tf')"
   ]
  },
  {
   "cell_type": "code",
   "execution_count": 5,
   "id": "ec47f69f-671e-4f58-8b0b-fccdc8ce9389",
   "metadata": {},
   "outputs": [
    {
     "name": "stdout",
     "output_type": "stream",
     "text": [
      "Model: \"model\"\n",
      "_________________________________________________________________\n",
      " Layer (type)                Output Shape              Param #   \n",
      "=================================================================\n",
      " input_1 (InputLayer)        [(None, 101, 4)]          0         \n",
      "                                                                 \n",
      " conv1d (Conv1D)             (None, 101, 15)           615       \n",
      "                                                                 \n",
      " dropout (Dropout)           (None, 101, 15)           0         \n",
      "                                                                 \n",
      " conv1d_1 (Conv1D)           (None, 101, 15)           2265      \n",
      "                                                                 \n",
      " dropout_1 (Dropout)         (None, 101, 15)           0         \n",
      "                                                                 \n",
      " conv1d_2 (Conv1D)           (None, 101, 15)           2265      \n",
      "                                                                 \n",
      " dropout_2 (Dropout)         (None, 101, 15)           0         \n",
      "                                                                 \n",
      " flatten (Flatten)           (None, 1515)              0         \n",
      "                                                                 \n",
      " dense (Dense)               (None, 1)                 1516      \n",
      "                                                                 \n",
      " activation (Activation)     (None, 1)                 0         \n",
      "                                                                 \n",
      "=================================================================\n",
      "Total params: 6,661\n",
      "Trainable params: 6,661\n",
      "Non-trainable params: 0\n",
      "_________________________________________________________________\n"
     ]
    }
   ],
   "source": [
    "model.model.summary()"
   ]
  },
  {
   "cell_type": "code",
   "execution_count": 6,
   "id": "00d68969-fbb1-4740-8357-5d9d4c6272e9",
   "metadata": {},
   "outputs": [],
   "source": [
    "# Load the data.\n",
    "\n",
    "train = dc.data.DiskDataset('../AUB-Lecture/data/train_dataset/')\n",
    "valid = dc.data.DiskDataset('../AUB-Lecture/data/valid_dataset/')\n",
    "\n"
   ]
  },
  {
   "cell_type": "code",
   "execution_count": 7,
   "id": "eead171e-2a7f-4bc9-b7e1-ed7dfa5830bf",
   "metadata": {},
   "outputs": [
    {
     "data": {
      "text/plain": [
       "'ATAAAAGCCCAGAACTATGCCATGTATAGTAGGGCATATGAAAGAAATATAGGATGGTCCCTGTCCTCTAGGAGCTTACACTCTTACTGGAGAGACAAGAT'"
      ]
     },
     "execution_count": 7,
     "metadata": {},
     "output_type": "execute_result"
    }
   ],
   "source": [
    "DNA_str = 'ACGT'\n",
    "''.join([DNA_str[i] for i in train.X[0].argmax(axis=-1).tolist()])"
   ]
  },
  {
   "cell_type": "code",
   "execution_count": 9,
   "id": "07f97326-463f-4ce9-9e90-f81ff989a7f8",
   "metadata": {},
   "outputs": [
    {
     "ename": "TypeError",
     "evalue": "fit() got an unexpected keyword argument 'verbose'",
     "output_type": "error",
     "traceback": [
      "\u001b[0;31m---------------------------------------------------------------------------\u001b[0m",
      "\u001b[0;31mTypeError\u001b[0m                                 Traceback (most recent call last)",
      "Cell \u001b[0;32mIn[9], line 5\u001b[0m\n\u001b[1;32m      3\u001b[0m metric \u001b[38;5;241m=\u001b[39m dc\u001b[38;5;241m.\u001b[39mmetrics\u001b[38;5;241m.\u001b[39mMetric(dc\u001b[38;5;241m.\u001b[39mmetrics\u001b[38;5;241m.\u001b[39mroc_auc_score)\n\u001b[1;32m      4\u001b[0m \u001b[38;5;28;01mfor\u001b[39;00m i \u001b[38;5;129;01min\u001b[39;00m \u001b[38;5;28mrange\u001b[39m(\u001b[38;5;241m1\u001b[39m):\n\u001b[0;32m----> 5\u001b[0m     \u001b[43mmodel\u001b[49m\u001b[38;5;241;43m.\u001b[39;49m\u001b[43mfit\u001b[49m\u001b[43m(\u001b[49m\u001b[43mtrain\u001b[49m\u001b[43m,\u001b[49m\u001b[43m \u001b[49m\u001b[43mnb_epoch\u001b[49m\u001b[38;5;241;43m=\u001b[39;49m\u001b[38;5;241;43m10\u001b[39;49m\u001b[43m,\u001b[49m\u001b[43m \u001b[49m\u001b[43mverbose\u001b[49m\u001b[38;5;241;43m=\u001b[39;49m\u001b[38;5;241;43m1\u001b[39;49m\u001b[43m)\u001b[49m\n\u001b[1;32m      6\u001b[0m     \u001b[38;5;28mprint\u001b[39m(model\u001b[38;5;241m.\u001b[39mevaluate(train, [metric]))\n\u001b[1;32m      7\u001b[0m     \u001b[38;5;28mprint\u001b[39m(model\u001b[38;5;241m.\u001b[39mevaluate(valid, [metric]))\n",
      "\u001b[0;31mTypeError\u001b[0m: fit() got an unexpected keyword argument 'verbose'"
     ]
    }
   ],
   "source": [
    "# Train the model, tracking its performance on the training and validation datasets.\n",
    "\n",
    "metric = dc.metrics.Metric(dc.metrics.roc_auc_score)\n",
    "for i in range(1):\n",
    "    model.fit(train, nb_epoch=10, verbose=1)\n",
    "    print(model.evaluate(train, [metric]))\n",
    "    print(model.evaluate(valid, [metric]))"
   ]
  },
  {
   "cell_type": "code",
   "execution_count": 9,
   "id": "50b0751d-6e48-4aa1-ac22-66749afa046f",
   "metadata": {},
   "outputs": [
    {
     "ename": "ValueError",
     "evalue": "No Metadata Found On Disk",
     "output_type": "error",
     "traceback": [
      "\u001b[1;31m---------------------------------------------------------------------------\u001b[0m",
      "\u001b[1;31mValueError\u001b[0m                                Traceback (most recent call last)",
      "Cell \u001b[1;32mIn[9], line 24\u001b[0m\n\u001b[0;32m     15\u001b[0m model \u001b[38;5;241m=\u001b[39m dc\u001b[38;5;241m.\u001b[39mmodels\u001b[38;5;241m.\u001b[39mKerasModel(\n\u001b[0;32m     16\u001b[0m     keras_model,\n\u001b[0;32m     17\u001b[0m     loss\u001b[38;5;241m=\u001b[39mdc\u001b[38;5;241m.\u001b[39mmodels\u001b[38;5;241m.\u001b[39mlosses\u001b[38;5;241m.\u001b[39mSigmoidCrossEntropy(),\n\u001b[0;32m     18\u001b[0m     output_types\u001b[38;5;241m=\u001b[39m[\u001b[38;5;124m'\u001b[39m\u001b[38;5;124mprediction\u001b[39m\u001b[38;5;124m'\u001b[39m, \u001b[38;5;124m'\u001b[39m\u001b[38;5;124mloss\u001b[39m\u001b[38;5;124m'\u001b[39m],\n\u001b[0;32m     19\u001b[0m     batch_size\u001b[38;5;241m=\u001b[39m\u001b[38;5;241m1000\u001b[39m,\n\u001b[0;32m     20\u001b[0m     model_dir\u001b[38;5;241m=\u001b[39m\u001b[38;5;124m'\u001b[39m\u001b[38;5;124mtf\u001b[39m\u001b[38;5;124m'\u001b[39m)\n\u001b[0;32m     22\u001b[0m \u001b[38;5;66;03m# Load the data.\u001b[39;00m\n\u001b[1;32m---> 24\u001b[0m train \u001b[38;5;241m=\u001b[39m \u001b[43mdc\u001b[49m\u001b[38;5;241;43m.\u001b[39;49m\u001b[43mdata\u001b[49m\u001b[38;5;241;43m.\u001b[39;49m\u001b[43mDiskDataset\u001b[49m\u001b[43m(\u001b[49m\u001b[38;5;124;43m'\u001b[39;49m\u001b[38;5;124;43mtrain_dataset\u001b[39;49m\u001b[38;5;124;43m'\u001b[39;49m\u001b[43m)\u001b[49m\n\u001b[0;32m     25\u001b[0m valid \u001b[38;5;241m=\u001b[39m dc\u001b[38;5;241m.\u001b[39mdata\u001b[38;5;241m.\u001b[39mDiskDataset(\u001b[38;5;124m'\u001b[39m\u001b[38;5;124mvalid_dataset\u001b[39m\u001b[38;5;124m'\u001b[39m)\n\u001b[0;32m     27\u001b[0m \u001b[38;5;66;03m# Train the model, tracking its performance on the training and validation datasets.\u001b[39;00m\n",
      "File \u001b[1;32mC:\\ProgramData\\miniconda3\\lib\\site-packages\\deepchem\\data\\datasets.py:1153\u001b[0m, in \u001b[0;36mDiskDataset.__init__\u001b[1;34m(self, data_dir)\u001b[0m\n\u001b[0;32m   1150\u001b[0m \u001b[38;5;28mself\u001b[39m\u001b[38;5;241m.\u001b[39mdata_dir \u001b[38;5;241m=\u001b[39m data_dir\n\u001b[0;32m   1152\u001b[0m logger\u001b[38;5;241m.\u001b[39minfo(\u001b[38;5;124m\"\u001b[39m\u001b[38;5;124mLoading dataset from disk.\u001b[39m\u001b[38;5;124m\"\u001b[39m)\n\u001b[1;32m-> 1153\u001b[0m \u001b[38;5;28mself\u001b[39m\u001b[38;5;241m.\u001b[39mtasks, \u001b[38;5;28mself\u001b[39m\u001b[38;5;241m.\u001b[39mmetadata_df \u001b[38;5;241m=\u001b[39m \u001b[38;5;28;43mself\u001b[39;49m\u001b[38;5;241;43m.\u001b[39;49m\u001b[43mload_metadata\u001b[49m\u001b[43m(\u001b[49m\u001b[43m)\u001b[49m\n\u001b[0;32m   1154\u001b[0m \u001b[38;5;28;01mif\u001b[39;00m \u001b[38;5;28mlen\u001b[39m(\u001b[38;5;28mself\u001b[39m\u001b[38;5;241m.\u001b[39mmetadata_df\u001b[38;5;241m.\u001b[39mcolumns) \u001b[38;5;241m==\u001b[39m \u001b[38;5;241m4\u001b[39m \u001b[38;5;129;01mand\u001b[39;00m \u001b[38;5;28mlist\u001b[39m(\n\u001b[0;32m   1155\u001b[0m     \u001b[38;5;28mself\u001b[39m\u001b[38;5;241m.\u001b[39mmetadata_df\u001b[38;5;241m.\u001b[39mcolumns) \u001b[38;5;241m==\u001b[39m [\u001b[38;5;124m'\u001b[39m\u001b[38;5;124mids\u001b[39m\u001b[38;5;124m'\u001b[39m, \u001b[38;5;124m'\u001b[39m\u001b[38;5;124mX\u001b[39m\u001b[38;5;124m'\u001b[39m, \u001b[38;5;124m'\u001b[39m\u001b[38;5;124my\u001b[39m\u001b[38;5;124m'\u001b[39m, \u001b[38;5;124m'\u001b[39m\u001b[38;5;124mw\u001b[39m\u001b[38;5;124m'\u001b[39m]:\n\u001b[0;32m   1156\u001b[0m   logger\u001b[38;5;241m.\u001b[39minfo(\n\u001b[0;32m   1157\u001b[0m       \u001b[38;5;124m\"\u001b[39m\u001b[38;5;124mDetected legacy metatadata on disk. You can upgrade from legacy metadata \u001b[39m\u001b[38;5;124m\"\u001b[39m\n\u001b[0;32m   1158\u001b[0m       \u001b[38;5;124m\"\u001b[39m\u001b[38;5;124mto the more efficient current metadata by resharding this dataset \u001b[39m\u001b[38;5;124m\"\u001b[39m\n\u001b[0;32m   1159\u001b[0m       \u001b[38;5;124m\"\u001b[39m\u001b[38;5;124mby calling the reshard() method of this object.\u001b[39m\u001b[38;5;124m\"\u001b[39m)\n",
      "File \u001b[1;32mC:\\ProgramData\\miniconda3\\lib\\site-packages\\deepchem\\data\\datasets.py:1234\u001b[0m, in \u001b[0;36mDiskDataset.load_metadata\u001b[1;34m(self)\u001b[0m\n\u001b[0;32m   1232\u001b[0m   DiskDataset\u001b[38;5;241m.\u001b[39m_save_metadata(metadata_df, \u001b[38;5;28mself\u001b[39m\u001b[38;5;241m.\u001b[39mdata_dir, tasks)\n\u001b[0;32m   1233\u001b[0m   \u001b[38;5;28;01mreturn\u001b[39;00m tasks, metadata_df\n\u001b[1;32m-> 1234\u001b[0m \u001b[38;5;28;01mraise\u001b[39;00m \u001b[38;5;167;01mValueError\u001b[39;00m(\u001b[38;5;124m\"\u001b[39m\u001b[38;5;124mNo Metadata Found On Disk\u001b[39m\u001b[38;5;124m\"\u001b[39m)\n",
      "\u001b[1;31mValueError\u001b[0m: No Metadata Found On Disk"
     ]
    }
   ],
   "source": [
    "import deepchem as dc\n",
    "import tensorflow as tf\n",
    "import tensorflow.keras.layers as layers\n",
    "\n",
    "# Build the model.\n",
    "\n",
    "features = tf.keras.Input(shape=(101, 4))\n",
    "prev = features\n",
    "for i in range(3):\n",
    "    prev = layers.Conv1D(filters=15, kernel_size=10, activation=tf.nn.relu, padding='same')(prev)\n",
    "    prev = layers.Dropout(rate=0.5)(prev)\n",
    "logits = layers.Dense(units=1)(layers.Flatten()(prev))\n",
    "output = layers.Activation(tf.math.sigmoid)(logits)\n",
    "keras_model = tf.keras.Model(inputs=features, outputs=[output, logits])\n",
    "model = dc.models.KerasModel(\n",
    "    keras_model,\n",
    "    loss=dc.models.losses.SigmoidCrossEntropy(),\n",
    "    output_types=['prediction', 'loss'],\n",
    "    batch_size=1000,\n",
    "    model_dir='tf')\n",
    "\n",
    "# Load the data.\n",
    "\n",
    "train = dc.data.DiskDataset('train_dataset')\n",
    "valid = dc.data.DiskDataset('valid_dataset')\n",
    "\n",
    "# Train the model, tracking its performance on the training and validation datasets.\n",
    "\n",
    "metric = dc.metrics.Metric(dc.metrics.roc_auc_score)\n",
    "for i in range(20):\n",
    "    model.fit(train, nb_epoch=10)\n",
    "    print(model.evaluate(train, [metric]))"
   ]
  },
  {
   "cell_type": "code",
   "execution_count": null,
   "id": "f1922c16-474b-4d14-9d1f-a16747775cc9",
   "metadata": {},
   "outputs": [],
   "source": [
    "dc.deepchem.models.layers.WeightedLinearCombo()"
   ]
  },
  {
   "cell_type": "code",
   "execution_count": 71,
   "id": "261bdfc8-cfe1-4fb6-9127-0d705d33c0e8",
   "metadata": {},
   "outputs": [],
   "source": [
    "import deepchem as dc\n",
    "import tensorflow as tf\n",
    "\n",
    "keras_model = tf.keras.Sequential([\n",
    "    tf.keras.layers.Dense(1000, activation='relu'),\n",
    "    tf.keras.layers.Dropout(rate=0.5),\n",
    "    tf.keras.layers.Dense(1)\n",
    "])\n",
    "model = dc.models.KerasModel(keras_model, dc.models.losses.L2Loss())"
   ]
  },
  {
   "cell_type": "code",
   "execution_count": 73,
   "id": "45cff00a-2224-43f7-b8ea-20a7d9f24f99",
   "metadata": {},
   "outputs": [
    {
     "ename": "AttributeError",
     "evalue": "module 'deepchem.models.losses' has no attribute 'WeightedError'",
     "output_type": "error",
     "traceback": [
      "\u001b[1;31m---------------------------------------------------------------------------\u001b[0m",
      "\u001b[1;31mAttributeError\u001b[0m                            Traceback (most recent call last)",
      "Cell \u001b[1;32mIn[73], line 2\u001b[0m\n\u001b[0;32m      1\u001b[0m loss \u001b[38;5;241m=\u001b[39m dc\u001b[38;5;241m.\u001b[39mmodels\u001b[38;5;241m.\u001b[39mlosses\u001b[38;5;241m.\u001b[39mSigmoidCrossEntropy()\n\u001b[1;32m----> 2\u001b[0m weighted_loss \u001b[38;5;241m=\u001b[39m\u001b[43mdc\u001b[49m\u001b[38;5;241;43m.\u001b[39;49m\u001b[43mmodels\u001b[49m\u001b[38;5;241;43m.\u001b[39;49m\u001b[43mlosses\u001b[49m\u001b[38;5;241;43m.\u001b[39;49m\u001b[43mWeightedError\u001b[49m(in_layers\u001b[38;5;241m=\u001b[39m[loss, weights])\n\u001b[0;32m      3\u001b[0m model\u001b[38;5;241m.\u001b[39mset_loss(weighted_loss)\n",
      "\u001b[1;31mAttributeError\u001b[0m: module 'deepchem.models.losses' has no attribute 'WeightedError'"
     ]
    }
   ],
   "source": [
    "loss = dc.models.losses.SigmoidCrossEntropy()\n",
    "weighted_loss =dc.models.layers.\n",
    "model.set_loss(weighted_loss)"
   ]
  },
  {
   "cell_type": "code",
   "execution_count": null,
   "id": "8b9a8f13-a855-47ea-a38e-80c023b5eefc",
   "metadata": {},
   "outputs": [],
   "source": []
  }
 ],
 "metadata": {
  "kernelspec": {
   "display_name": "deepchem2",
   "language": "python",
   "name": "python3"
  },
  "language_info": {
   "codemirror_mode": {
    "name": "ipython",
    "version": 3
   },
   "file_extension": ".py",
   "mimetype": "text/x-python",
   "name": "python",
   "nbconvert_exporter": "python",
   "pygments_lexer": "ipython3",
   "version": "3.8.0"
  }
 },
 "nbformat": 4,
 "nbformat_minor": 5
}
