{
 "cells": [
  {
   "cell_type": "code",
   "execution_count": null,
   "id": "22ac1fbf-f6a7-429f-a1c0-32f37677518d",
   "metadata": {},
   "outputs": [],
   "source": [
    "!pip install tensorflow\n",
    "!pip install mdtraj\n",
    "!conda install -y -c conda-forge pdbfixer\n",
    "!conda install -y boost-cpp boost py-boost\n",
    "!pip install git+https://github.com/samoturk/mol2vec\n",
    "!pip install matminer\n",
    "!pip install mordred\n",
    "!pip install networkx[default]\n",
    "!conda install -y -c conda-forge openmm\n",
    "!pip install pymatgen\n",
    "! pip install deepchem==2.4\n",
    "!conda install -y -c rdkit rdkit\n",
    "!pip install biopython"
   ]
  },
  {
   "cell_type": "code",
   "execution_count": 110,
   "id": "2f05e88c-0cfd-439c-b001-d85fee9b0bf5",
   "metadata": {
    "tags": []
   },
   "outputs": [],
   "source": [
    "import tensorflow\n",
    "import sklearn as sk\n",
    "import numpy as np\n",
    "import rdkit"
   ]
  },
  {
   "cell_type": "code",
   "execution_count": 2,
   "id": "b2cb7a79-f273-451f-bd26-4d8ff96bc84b",
   "metadata": {
    "tags": []
   },
   "outputs": [],
   "source": [
    "import deepchem as dc\n",
    "# import image module\n",
    "from IPython.display import Image\n",
    "from Bio import SeqIO\n",
    " "
   ]
  },
  {
   "cell_type": "markdown",
   "id": "5c7e55d5-1719-4b15-8ca2-0a9ba4990af5",
   "metadata": {},
   "source": [
    "# Install Needed Libraries"
   ]
  },
  {
   "cell_type": "markdown",
   "id": "27f3b59d-5108-4108-8eba-598f782ba0c3",
   "metadata": {},
   "source": [
    "## Intro to DeepChem"
   ]
  },
  {
   "cell_type": "code",
   "execution_count": 4,
   "id": "8d6468ca-e38d-4630-8c95-f808bc9668a7",
   "metadata": {
    "tags": []
   },
   "outputs": [],
   "source": [
    "x = np.random.random((4, 5))\n",
    "y = np.random.random((4, 1))"
   ]
  },
  {
   "cell_type": "code",
   "execution_count": 5,
   "id": "a2c4c6b8-8407-4d7f-afed-b6d4342d9a9b",
   "metadata": {},
   "outputs": [
    {
     "data": {
      "text/plain": [
       "array([[0.30527717, 0.0835809 , 0.67932212, 0.93149473, 0.87936275],\n",
       "       [0.60161455, 0.20126002, 0.61024546, 0.48603644, 0.37632475],\n",
       "       [0.26715922, 0.58853312, 0.11126857, 0.70918932, 0.50646938],\n",
       "       [0.47823493, 0.74983965, 0.0633327 , 0.51113341, 0.78004665]])"
      ]
     },
     "execution_count": 5,
     "metadata": {},
     "output_type": "execute_result"
    }
   ],
   "source": [
    "x"
   ]
  },
  {
   "cell_type": "code",
   "execution_count": 6,
   "id": "a2ec3d71-ebe7-4f64-88f1-f1b0d821bea1",
   "metadata": {},
   "outputs": [
    {
     "data": {
      "text/plain": [
       "array([[0.69080916],\n",
       "       [0.8356498 ],\n",
       "       [0.64067021],\n",
       "       [0.62592553]])"
      ]
     },
     "execution_count": 6,
     "metadata": {},
     "output_type": "execute_result"
    }
   ],
   "source": [
    "y"
   ]
  },
  {
   "cell_type": "code",
   "execution_count": 7,
   "id": "ccff1beb-5b3f-4178-8c65-c03fb0c93654",
   "metadata": {},
   "outputs": [],
   "source": [
    "dataset = dc.data.NumpyDataset(x, y)"
   ]
  },
  {
   "cell_type": "code",
   "execution_count": 8,
   "id": "363949fc-041b-43a5-a0e6-70e3c915bc18",
   "metadata": {},
   "outputs": [
    {
     "name": "stdout",
     "output_type": "stream",
     "text": [
      "[[0.30527717 0.0835809  0.67932212 0.93149473 0.87936275]\n",
      " [0.60161455 0.20126002 0.61024546 0.48603644 0.37632475]\n",
      " [0.26715922 0.58853312 0.11126857 0.70918932 0.50646938]\n",
      " [0.47823493 0.74983965 0.0633327  0.51113341 0.78004665]]\n"
     ]
    }
   ],
   "source": [
    "print(dataset.X)"
   ]
  },
  {
   "cell_type": "code",
   "execution_count": 9,
   "id": "c0eecc2a-1cda-4178-b250-c7f62ee68e00",
   "metadata": {},
   "outputs": [
    {
     "name": "stdout",
     "output_type": "stream",
     "text": [
      "[[0.69080916]\n",
      " [0.8356498 ]\n",
      " [0.64067021]\n",
      " [0.62592553]]\n"
     ]
    }
   ],
   "source": [
    "print(dataset.y)"
   ]
  },
  {
   "cell_type": "markdown",
   "id": "e30bb209-290c-45df-a926-0a8df49350eb",
   "metadata": {},
   "source": [
    "## Featurizing Data"
   ]
  },
  {
   "cell_type": "code",
   "execution_count": 2,
   "id": "0b3b39f0",
   "metadata": {},
   "outputs": [],
   "source": [
    "# https://deepchem.readthedocs.io/en/latest/api_reference/featurizers.html?highlight=feat"
   ]
  },
  {
   "cell_type": "markdown",
   "id": "0aedf587-34ec-4c6b-b229-c608e875bedd",
   "metadata": {},
   "source": [
    "## SMILES"
   ]
  },
  {
   "cell_type": "code",
   "execution_count": 34,
   "id": "7ee12b9a-c7da-4e4e-8cd5-cacbb47f61d0",
   "metadata": {},
   "outputs": [
    {
     "data": {
      "text/plain": [
       "5"
      ]
     },
     "execution_count": 34,
     "metadata": {},
     "output_type": "execute_result"
    }
   ],
   "source": [
    "smiles = [\n",
    "  'O=Cc1ccc(O)c(OC)c1',\n",
    "  'CN1CCC[C@H]1c2cccnc2',\n",
    "  'C1CCCCC1',\n",
    "  'c1ccccc1',\n",
    "  'CC(=O)O',\n",
    "]\n",
    "properties = [0.4, -1.5, 3.2, -0.2, 1.7]\n",
    "featurizer = dc.feat.CircularFingerprint(size=1024)\n",
    "ecfp = featurizer.featurize(smiles)\n",
    "ecfp.shape\n",
    "(5, 1024)\n",
    "dataset = dc.data.NumpyDataset(X=ecfp, y=np.array(properties))\n",
    "len(dataset)"
   ]
  },
  {
   "cell_type": "markdown",
   "id": "040201b1-b183-4750-903a-c9654c124c14",
   "metadata": {},
   "source": [
    "## Proteins"
   ]
  },
  {
   "cell_type": "code",
   "execution_count": 13,
   "id": "73423863-ed2f-4d8f-b6d0-b43835b675f1",
   "metadata": {
    "tags": []
   },
   "outputs": [
    {
     "name": "stdout",
     "output_type": "stream",
     "text": [
      "# number of possible AA=20\n"
     ]
    }
   ],
   "source": [
    "codes = ['A', 'C', 'D', 'E', 'F', 'G', 'H', 'I', 'K', 'L',\n",
    "         'M', 'N', 'P', 'Q', 'R', 'S', 'T', 'V', 'W', 'Y']\n",
    "print(f'# number of possible AA={len(codes)}')"
   ]
  },
  {
   "cell_type": "code",
   "execution_count": 3,
   "id": "e0b83ee1-904e-4624-a62a-514285439d6c",
   "metadata": {
    "tags": []
   },
   "outputs": [
    {
     "name": "stdout",
     "output_type": "stream",
     "text": [
      "----------------------------------------------------------\n",
      "Processing the record 8BIC_1|Chains:\n",
      "Its description is: \n",
      "8BIC_1|Chains A, B|methyltransferase Plu4891|Photorhabdus luminescens (29488)\n",
      "Its sequence contains 335 nucleotides.\n"
     ]
    }
   ],
   "source": [
    "path_to_file = 'data/rcsb_pdb_8BIC.fasta'\n",
    "with open(path_to_file, mode='r') as handle:\n",
    "\n",
    "    # Use Biopython's parse function to process individual\n",
    "    # FASTA records (thus reducing memory footprint)\n",
    "    for record in SeqIO.parse(handle, 'fasta'):\n",
    "\n",
    "        # Extract individual parts of the FASTA record\n",
    "        identifier = record.id\n",
    "        description = record.description\n",
    "        sequence = record.seq\n",
    "\n",
    "        # Example: adapt to extract features you are interested in\n",
    "        print('----------------------------------------------------------')\n",
    "        print('Processing the record {}:'.format(identifier))\n",
    "        print('Its description is: \\n{}'.format(description))\n",
    "        amount_of_nucleotides = len(sequence)\n",
    "        print('Its sequence contains {} nucleotides.'.format(amount_of_nucleotides))"
   ]
  },
  {
   "cell_type": "code",
   "execution_count": 4,
   "id": "d893e260-a63a-4df5-b623-8c4a29c1e72c",
   "metadata": {
    "tags": []
   },
   "outputs": [],
   "source": [
    "seq_list  = str(sequence)"
   ]
  },
  {
   "cell_type": "code",
   "execution_count": 17,
   "id": "630e5ed6-5b0f-435c-9ce6-116bcc9a5092",
   "metadata": {
    "tags": []
   },
   "outputs": [
    {
     "name": "stderr",
     "output_type": "stream",
     "text": [
      "[23:38:14] SMILES Parse Error: syntax error while parsing: MRGSHHHHHHENLYFQGSMLIDLITSCRKSTVIYAFVDMGLSVHFKDGACVNISELASQYGLDHSRFSRLCEYLIKIGVLVSCNEGVALSEECSALADPESMESLMIRCEVSPEYWKAWSMYSKSLYENNSKTAFEIAHGKPFFEYLDHHELFRSNFDSFMSKNSDKIIEKLLDIYDFSQHNRILDVGGGEGNLLIRINEKIKGKHYAVLDRYNETPVLEDIEFINGDFFKLVPSGYDLYILKNVIHNWSDSNAILILENCRKAMDDNATILLIGTVKKLKLEIIDSTDILMDVLLLGKERYLNELEDLAHQAGFVVKDIKEINEKYSIIELGVK\n",
      "[23:38:14] SMILES Parse Error: Failed parsing SMILES 'MRGSHHHHHHENLYFQGSMLIDLITSCRKSTVIYAFVDMGLSVHFKDGACVNISELASQYGLDHSRFSRLCEYLIKIGVLVSCNEGVALSEECSALADPESMESLMIRCEVSPEYWKAWSMYSKSLYENNSKTAFEIAHGKPFFEYLDHHELFRSNFDSFMSKNSDKIIEKLLDIYDFSQHNRILDVGGGEGNLLIRINEKIKGKHYAVLDRYNETPVLEDIEFINGDFFKLVPSGYDLYILKNVIHNWSDSNAILILENCRKAMDDNATILLIGTVKKLKLEIIDSTDILMDVLLLGKERYLNELEDLAHQAGFVVKDIKEINEKYSIIELGVK' for input: 'MRGSHHHHHHENLYFQGSMLIDLITSCRKSTVIYAFVDMGLSVHFKDGACVNISELASQYGLDHSRFSRLCEYLIKIGVLVSCNEGVALSEECSALADPESMESLMIRCEVSPEYWKAWSMYSKSLYENNSKTAFEIAHGKPFFEYLDHHELFRSNFDSFMSKNSDKIIEKLLDIYDFSQHNRILDVGGGEGNLLIRINEKIKGKHYAVLDRYNETPVLEDIEFINGDFFKLVPSGYDLYILKNVIHNWSDSNAILILENCRKAMDDNATILLIGTVKKLKLEIIDSTDILMDVLLLGKERYLNELEDLAHQAGFVVKDIKEINEKYSIIELGVK'\n",
      "Failed to featurize datapoint 0, None. Appending empty array\n",
      "Exception message: Python argument types in\n",
      "    rdkit.Chem.rdmolfiles.CanonicalRankAtoms(NoneType)\n",
      "did not match C++ signature:\n",
      "    CanonicalRankAtoms(RDKit::ROMol mol, bool breakTies=True, bool includeChirality=True, bool includeIsotopes=True)\n"
     ]
    }
   ],
   "source": [
    "max_seq = 500\n",
    "codes = ['A', 'C', 'D', 'E', 'F', 'G', 'H', 'I', 'K', 'L',\n",
    "         'M', 'N', 'P', 'Q', 'R', 'S', 'T', 'V', 'W', 'Y']\n",
    "# Approach 1 \n",
    "OneHotFeaturizer = dc.feat.OneHotFeaturizer(codes, max_length=max_seq)\n",
    "features = OneHotFeaturizer.featurize(seq_list)\n",
    "# Appraoch 2 \n",
    "indinces = [codes.index(s) for s in sequence]\n",
    "onhot_mat = np.zeros((len(sequence), len(codes)))\n",
    "onhot_mat[np.arange(len(sequence)), indinces]=1\n",
    "assert ''.join([codes[i] for i in onhot_mat.argmax(axis=-1).tolist()]) == sequence"
   ]
  },
  {
   "cell_type": "markdown",
   "id": "b4580cc5-4fcd-4ec8-9245-4eac0230aee2",
   "metadata": {},
   "source": [
    "## Datasets "
   ]
  },
  {
   "cell_type": "markdown",
   "id": "5e31778d-af5e-4514-ad72-977a98aa5394",
   "metadata": {},
   "source": [
    "The DeepChem library is packaged alongside the MoleculeNet suite of datasets. One of the most important parts of machine learning applications is finding a suitable dataset. The MoleculeNet suite has curated a whole range of datasets and loaded them into DeepChem dc.data.Dataset objects for convenience."
   ]
  },
  {
   "cell_type": "code",
   "execution_count": 11,
   "id": "79122960-0a5d-43a1-9ee3-30154a8b0182",
   "metadata": {
    "tags": []
   },
   "outputs": [
    {
     "data": {
      "text/plain": [
       "['load_bace_classification',\n",
       " 'load_bace_regression',\n",
       " 'load_bandgap',\n",
       " 'load_bbbc001',\n",
       " 'load_bbbc002',\n",
       " 'load_bbbp',\n",
       " 'load_cell_counting',\n",
       " 'load_chembl',\n",
       " 'load_chembl25',\n",
       " 'load_clearance',\n",
       " 'load_clintox',\n",
       " 'load_delaney',\n",
       " 'load_factors',\n",
       " 'load_function',\n",
       " 'load_hiv',\n",
       " 'load_hopv',\n",
       " 'load_hppb',\n",
       " 'load_kaggle',\n",
       " 'load_kinase',\n",
       " 'load_lipo',\n",
       " 'load_mp_formation_energy',\n",
       " 'load_mp_metallicity',\n",
       " 'load_muv',\n",
       " 'load_nci',\n",
       " 'load_pcba',\n",
       " 'load_pdbbind',\n",
       " 'load_perovskite',\n",
       " 'load_ppb',\n",
       " 'load_qm7',\n",
       " 'load_qm8',\n",
       " 'load_qm9',\n",
       " 'load_sampl',\n",
       " 'load_sider',\n",
       " 'load_sweet',\n",
       " 'load_thermosol',\n",
       " 'load_tox21',\n",
       " 'load_toxcast',\n",
       " 'load_uspto',\n",
       " 'load_uv',\n",
       " 'load_zinc15']"
      ]
     },
     "execution_count": 11,
     "metadata": {},
     "output_type": "execute_result"
    }
   ],
   "source": [
    "[method for method in dir(dc.molnet) if \"load_\" in method ]\n"
   ]
  },
  {
   "cell_type": "code",
   "execution_count": 27,
   "id": "234e3499-c47d-491e-9c83-2063ad9ba3c9",
   "metadata": {
    "tags": []
   },
   "outputs": [],
   "source": [
    "tox21_tasks, tox21_datasets, transformers = dc.molnet.load_tox21()"
   ]
  },
  {
   "cell_type": "code",
   "execution_count": 28,
   "id": "9fc20a84-917c-464e-8e8f-9bfb4d186904",
   "metadata": {
    "tags": []
   },
   "outputs": [
    {
     "data": {
      "text/plain": [
       "(<DiskDataset X.shape: (6264, 1024), y.shape: (6264, 12), w.shape: (6264, 12), task_names: ['NR-AR' 'NR-AR-LBD' 'NR-AhR' ... 'SR-HSE' 'SR-MMP' 'SR-p53']>,\n",
       " <DiskDataset X.shape: (783, 1024), y.shape: (783, 12), w.shape: (783, 12), ids: ['N#C[C@@H]1CC(F)(F)CN1C(=O)CNC1CC2CCC(C1)N2c1ncccn1'\n",
       "  'CN(C)C(=O)NC1(c2ccccc2)CCN(CCC[C@@]2(c3ccc(Cl)c(Cl)c3)CCCN(C(=O)c3ccccc3)C2)CC1'\n",
       "  'CSc1nnc(C(C)(C)C)c(=O)n1N' ...\n",
       "  'O=C(O[C@H]1CN2CCC1CC2)N1CCc2ccccc2[C@@H]1c1ccccc1'\n",
       "  'C#C[C@]1(O)CC[C@H]2[C@@H]3CCC4=CC(=O)CC[C@@H]4[C@H]3C(=C)C[C@@]21CC'\n",
       "  'NC(=O)C(c1ccccc1)(c1ccccc1)[C@@H]1CCN(CCc2ccc3c(c2)CCO3)C1'], task_names: ['NR-AR' 'NR-AR-LBD' 'NR-AhR' ... 'SR-HSE' 'SR-MMP' 'SR-p53']>,\n",
       " <DiskDataset X.shape: (784, 1024), y.shape: (784, 12), w.shape: (784, 12), ids: ['CC1(C)S[C@@H]2[C@H](NC(=O)Cc3ccccc3)C(=O)N2[C@H]1C(=O)O.CC1(C)S[C@@H]2[C@H](NC(=O)Cc3ccccc3)C(=O)N2[C@H]1C(=O)O.c1ccc(CNCCNCc2ccccc2)cc1'\n",
       "  'CC(C)(c1ccc(Oc2ccc3c(c2)C(=O)OC3=O)cc1)c1ccc(Oc2ccc3c(c2)C(=O)OC3=O)cc1'\n",
       "  'Cc1cc(C(C)(C)C)c(O)c(C)c1Cn1c(=O)n(Cc2c(C)cc(C(C)(C)C)c(O)c2C)c(=O)n(Cc2c(C)cc(C(C)(C)C)c(O)c2C)c1=O'\n",
       "  ... 'CN[C@@H]1C[C@@H](c2ccc(Cl)c(Cl)c2)c2ccccc21'\n",
       "  'Cl/C=C\\\\C[N+]12CN3CN(CN(C3)C1)C2'\n",
       "  'NC(=O)c1ccc[n+]([C@@H]2O[C@H](COP(=O)([O-])OP(=O)(O)OC[C@H]3O[C@@H](n4cnc5c(N)ncnc54)[C@H](O)[C@@H]3O)[C@@H](O)[C@H]2O)c1'], task_names: ['NR-AR' 'NR-AR-LBD' 'NR-AhR' ... 'SR-HSE' 'SR-MMP' 'SR-p53']>)"
      ]
     },
     "execution_count": 28,
     "metadata": {},
     "output_type": "execute_result"
    }
   ],
   "source": [
    "tox21_datasets"
   ]
  },
  {
   "cell_type": "code",
   "execution_count": 29,
   "id": "ed1ae23b-7672-4667-9662-e673b903100c",
   "metadata": {
    "tags": []
   },
   "outputs": [],
   "source": [
    "train_dataset, valid_dataset, test_dataset = tox21_datasets"
   ]
  },
  {
   "cell_type": "code",
   "execution_count": 30,
   "id": "063dae5c-71aa-402c-b70e-e9b90bc34d62",
   "metadata": {
    "tags": []
   },
   "outputs": [
    {
     "data": {
      "text/plain": [
       "(6264, 1024)"
      ]
     },
     "execution_count": 30,
     "metadata": {},
     "output_type": "execute_result"
    }
   ],
   "source": [
    "train_dataset.X.shape"
   ]
  },
  {
   "cell_type": "code",
   "execution_count": 31,
   "id": "c7832683-a89d-43a9-a88f-9aeb108e712b",
   "metadata": {
    "tags": []
   },
   "outputs": [
    {
     "data": {
      "text/plain": [
       "(783, 1024)"
      ]
     },
     "execution_count": 31,
     "metadata": {},
     "output_type": "execute_result"
    }
   ],
   "source": [
    "valid_dataset.X.shape"
   ]
  },
  {
   "cell_type": "code",
   "execution_count": 32,
   "id": "470b649e-68e0-425a-bc40-fdf78ea47692",
   "metadata": {
    "tags": []
   },
   "outputs": [
    {
     "data": {
      "text/plain": [
       "(784, 1024)"
      ]
     },
     "execution_count": 32,
     "metadata": {},
     "output_type": "execute_result"
    }
   ],
   "source": [
    "test_dataset.X.shape"
   ]
  },
  {
   "cell_type": "code",
   "execution_count": 33,
   "id": "235ffb1f-ac8a-48aa-bf7e-7f99c74b0790",
   "metadata": {
    "tags": []
   },
   "outputs": [
    {
     "data": {
      "text/plain": [
       "(6264, 12)"
      ]
     },
     "execution_count": 33,
     "metadata": {},
     "output_type": "execute_result"
    }
   ],
   "source": [
    "np.shape(train_dataset.y)"
   ]
  },
  {
   "cell_type": "code",
   "execution_count": 34,
   "id": "eb3127ba-c224-4f2c-8515-7fa149e1d2ca",
   "metadata": {
    "tags": []
   },
   "outputs": [
    {
     "data": {
      "text/plain": [
       "1127"
      ]
     },
     "execution_count": 34,
     "metadata": {},
     "output_type": "execute_result"
    }
   ],
   "source": [
    "np.sum(np.sum(train_dataset.y, axis=-1)>1)"
   ]
  },
  {
   "cell_type": "code",
   "execution_count": 35,
   "id": "036c4c2d-02ef-4bad-8d05-d42b8629fbf7",
   "metadata": {
    "tags": []
   },
   "outputs": [
    {
     "data": {
      "text/plain": [
       "(783, 12)"
      ]
     },
     "execution_count": 35,
     "metadata": {},
     "output_type": "execute_result"
    }
   ],
   "source": [
    "np.shape(valid_dataset.y)"
   ]
  },
  {
   "cell_type": "code",
   "execution_count": 36,
   "id": "16d0a811-9f11-418d-b1c8-2309f9384228",
   "metadata": {
    "tags": []
   },
   "outputs": [
    {
     "data": {
      "text/plain": [
       "(784, 12)"
      ]
     },
     "execution_count": 36,
     "metadata": {},
     "output_type": "execute_result"
    }
   ],
   "source": [
    "np.shape(test_dataset.y)"
   ]
  },
  {
   "cell_type": "markdown",
   "id": "fa835440-030f-4c22-b24e-37aae3ba045f",
   "metadata": {},
   "source": [
    "the actual experimental dataset for Tox21 did not\n",
    "test every molecule in every biological experiment. That means that some of these\n",
    "labels are meaningless placeholders. We simply don’t have any data for some properties\n",
    "of some molecules, so we need to ignore those elements of the arrays when training\n",
    "and testing the model."
   ]
  },
  {
   "cell_type": "code",
   "execution_count": 37,
   "id": "2d857248-c3ab-4c45-8850-8535437acef0",
   "metadata": {
    "tags": []
   },
   "outputs": [
    {
     "data": {
      "text/plain": [
       "(6264, 12)"
      ]
     },
     "execution_count": 37,
     "metadata": {},
     "output_type": "execute_result"
    }
   ],
   "source": [
    "train_dataset.w.shape"
   ]
  },
  {
   "cell_type": "code",
   "execution_count": 38,
   "id": "81be8ef4-6c06-44a3-98f6-8458d11aed18",
   "metadata": {
    "tags": []
   },
   "outputs": [
    {
     "data": {
      "text/plain": [
       "63647"
      ]
     },
     "execution_count": 38,
     "metadata": {},
     "output_type": "execute_result"
    }
   ],
   "source": [
    "np.count_nonzero(train_dataset.w)"
   ]
  },
  {
   "cell_type": "code",
   "execution_count": 39,
   "id": "ae6aa42a-de99-4521-8642-5c8fa61e158f",
   "metadata": {
    "tags": []
   },
   "outputs": [
    {
     "data": {
      "text/plain": [
       "11521"
      ]
     },
     "execution_count": 39,
     "metadata": {},
     "output_type": "execute_result"
    }
   ],
   "source": [
    "np.count_nonzero(train_dataset.w == 0)"
   ]
  },
  {
   "cell_type": "markdown",
   "id": "c14ee22c-825d-4b53-bdea-a0d26afe3cda",
   "metadata": {},
   "source": [
    "### Machine Learning for Molecules"
   ]
  },
  {
   "cell_type": "markdown",
   "id": "44b0058e-d5e6-4109-ac5c-13f55841b706",
   "metadata": {},
   "source": [
    "#### Predict Solubility"
   ]
  },
  {
   "cell_type": "markdown",
   "id": "63bd5d83-1f14-4eac-9aba-81a46a20eefc",
   "metadata": {},
   "source": [
    "#### Extended Connectivity Fingerprint (ECFP)"
   ]
  },
  {
   "cell_type": "code",
   "execution_count": 73,
   "id": "ff453b96-5f6c-4929-b316-56c908d1ee66",
   "metadata": {
    "tags": []
   },
   "outputs": [
    {
     "data": {
      "image/png": "[encoded data removed]",
      "text/plain": [
       "<IPython.core.display.Image object>"
      ]
     },
     "execution_count": 73,
     "metadata": {
      "image/png": {
       "height": 600,
       "width": 600
      }
     },
     "output_type": "execute_result"
    }
   ],
   "source": [
    "Image('assets/ecfp_1.png', width=600, height=600)"
   ]
  },
  {
   "cell_type": "code",
   "execution_count": 84,
   "id": "d5b49f3c-f179-4a9a-b8a7-a02c470451d7",
   "metadata": {
    "tags": []
   },
   "outputs": [],
   "source": [
    "model = dc.models.MultitaskRegressor(n_tasks=1,\n",
    "n_features=1024,\n",
    "layer_sizes=[1000])"
   ]
  },
  {
   "cell_type": "markdown",
   "id": "bc0daf53-cdcd-4801-8ffe-897f8d1ac0b5",
   "metadata": {},
   "source": [
    "<ol>\n",
    "  <p>Parameters:</p>\n",
    "  <li>n_features.</li>\n",
    "  <p> The number of input features</p>\n",
    "  <li>layer_sizes:.</li>\n",
    "  <p>The size of the fully connected layer </p>\n",
    "  <li>n_tasks:</li>\n",
    "  <p> the number of tasks</p>\n",
    "</ol>\n",
    "\n"
   ]
  },
  {
   "cell_type": "code",
   "execution_count": 85,
   "id": "e0b1c1e4-a10c-4ded-8f5a-6b1b6fc229ef",
   "metadata": {
    "tags": []
   },
   "outputs": [],
   "source": [
    "tasks, datasets, transformers = dc.molnet.load_delaney(featurizer='ECFP')\n",
    "train_dataset, valid_dataset, test_dataset = datasets\n"
   ]
  },
  {
   "cell_type": "code",
   "execution_count": 86,
   "id": "e31ba702-7fed-4a06-8133-def5530d39a4",
   "metadata": {
    "tags": []
   },
   "outputs": [
    {
     "data": {
      "text/plain": [
       "0.5469723129272461"
      ]
     },
     "execution_count": 86,
     "metadata": {},
     "output_type": "execute_result"
    }
   ],
   "source": [
    "model.fit(train_dataset)"
   ]
  },
  {
   "cell_type": "code",
   "execution_count": 87,
   "id": "743e8c72-1c5b-4148-b891-d8c781b71f6b",
   "metadata": {
    "tags": []
   },
   "outputs": [],
   "source": [
    "metric = dc.metrics.Metric(dc.metrics.pearson_r2_score)"
   ]
  },
  {
   "cell_type": "code",
   "execution_count": 88,
   "id": "6aa575e3-1328-4318-9205-563ab4d46ea9",
   "metadata": {
    "tags": []
   },
   "outputs": [],
   "source": [
    "train_scores = model.evaluate(train_dataset, [metric], transformers)\n",
    "test_scores = model.evaluate(test_dataset, [metric], transformers)"
   ]
  },
  {
   "cell_type": "code",
   "execution_count": 89,
   "id": "986cc0cf-56e9-4134-9078-77e0bba2fbbd",
   "metadata": {
    "tags": []
   },
   "outputs": [
    {
     "name": "stdout",
     "output_type": "stream",
     "text": [
      "{'pearson_r2_score': 0.8349136369885887}\n"
     ]
    }
   ],
   "source": [
    "print(train_scores)"
   ]
  },
  {
   "cell_type": "code",
   "execution_count": 90,
   "id": "d48e8975-9a9d-400b-b7ea-cdb6f33eaa8b",
   "metadata": {
    "tags": []
   },
   "outputs": [
    {
     "name": "stdout",
     "output_type": "stream",
     "text": [
      "{'pearson_r2_score': 0.43810888493254135}\n"
     ]
    }
   ],
   "source": [
    "print(test_scores)"
   ]
  },
  {
   "cell_type": "code",
   "execution_count": 91,
   "id": "e77698f2-ddaf-4ddd-b453-1b015abc013c",
   "metadata": {
    "tags": []
   },
   "outputs": [],
   "source": [
    "predicted = model.predict(test_dataset, transformers)"
   ]
  },
  {
   "cell_type": "markdown",
   "id": "2c568efb-c3d3-4a12-b258-4167d6a7f32e",
   "metadata": {},
   "source": [
    "#### GCN"
   ]
  },
  {
   "cell_type": "code",
   "execution_count": null,
   "id": "bf3ea7a4-946b-4dac-9bd0-990b96c0115b",
   "metadata": {},
   "outputs": [],
   "source": [
    "# https://arxiv.org/abs/1603.00856"
   ]
  },
  {
   "cell_type": "code",
   "execution_count": 92,
   "id": "68c0a3c7-3415-488d-81aa-75c86b0f0475",
   "metadata": {
    "tags": []
   },
   "outputs": [
    {
     "data": {
      "image/png": "[encoded data removed]",
      "text/plain": [
       "<IPython.core.display.Image object>"
      ]
     },
     "execution_count": 92,
     "metadata": {},
     "output_type": "execute_result"
    }
   ],
   "source": [
    "Image('assets/GNN.png')"
   ]
  },
  {
   "cell_type": "code",
   "execution_count": 93,
   "id": "e3794ca8-6be3-4674-ac23-0f9ec7c0665c",
   "metadata": {
    "tags": []
   },
   "outputs": [],
   "source": [
    "tasks, datasets, transformers = dc.molnet.load_delaney()\n"
   ]
  },
  {
   "cell_type": "code",
   "execution_count": 94,
   "id": "17d800fa-c818-4bd6-97a3-e108fe49587b",
   "metadata": {
    "tags": []
   },
   "outputs": [
    {
     "data": {
      "text/plain": [
       "(902, 1024)"
      ]
     },
     "execution_count": 94,
     "metadata": {},
     "output_type": "execute_result"
    }
   ],
   "source": [
    "datasets[0].X.shape"
   ]
  },
  {
   "cell_type": "markdown",
   "id": "9037a4a8-f840-4714-b200-502dcfc30156",
   "metadata": {},
   "source": [
    "Solubility is the maximum amount of a substance that can be dissolved by a solvent at a given physical condition. Solubility is a property of chemical entities, which ranges from infinitely soluble to poorly soluble. Solubility depends on the physical and chemical properties of the solute and solvent."
   ]
  },
  {
   "cell_type": "code",
   "execution_count": 40,
   "id": "6f7978da-bf38-438f-8adf-6b7e4f3de03b",
   "metadata": {
    "tags": []
   },
   "outputs": [],
   "source": [
    "# Train a neural network to predict the solubility of molecules.  First load the data.\n",
    "# Ref: https://distill.pub/2021/gnn-intro/\n",
    "tasks, datasets, transformers = dc.molnet.load_delaney(featurizer='GraphConv')\n",
    "train_dataset, valid_dataset, test_dataset = datasets\n"
   ]
  },
  {
   "cell_type": "code",
   "execution_count": 49,
   "id": "fbcc5d48-eba6-46bf-9b78-aa8b088b68d5",
   "metadata": {
    "tags": []
   },
   "outputs": [
    {
     "name": "stdout",
     "output_type": "stream",
     "text": [
      "<deepchem.feat.mol_graphs.ConvMol object at 0x7f5ce36d3940>\n"
     ]
    }
   ],
   "source": [
    "for (xi, yi, wi, idi) in train_dataset.itersamples():\n",
    "    print(xi)\n",
    "    break"
   ]
  },
  {
   "cell_type": "code",
   "execution_count": 60,
   "id": "03924aa1-46e2-4329-a390-4ef17b5dc563",
   "metadata": {
    "tags": []
   },
   "outputs": [
    {
     "data": {
      "text/plain": [
       "11"
      ]
     },
     "execution_count": 60,
     "metadata": {},
     "output_type": "execute_result"
    }
   ],
   "source": [
    "xi.n_atoms"
   ]
  },
  {
   "cell_type": "code",
   "execution_count": 59,
   "id": "9027f30c-db57-4dec-8d04-297bbc3ec245",
   "metadata": {
    "tags": []
   },
   "outputs": [
    {
     "data": {
      "text/plain": [
       "(11, 75)"
      ]
     },
     "execution_count": 59,
     "metadata": {},
     "output_type": "execute_result"
    }
   ],
   "source": [
    "xi.get_atom_features()"
   ]
  },
  {
   "cell_type": "code",
   "execution_count": 57,
   "id": "43fe4662-fff6-4b4f-9a72-8ea4b58aa42f",
   "metadata": {
    "tags": []
   },
   "outputs": [
    {
     "data": {
      "text/plain": [
       "[[9],\n",
       " [10],\n",
       " [4],\n",
       " [9],\n",
       " [6, 2],\n",
       " [7, 10],\n",
       " [10, 4],\n",
       " [8, 5],\n",
       " [9, 7],\n",
       " [0, 3, 8],\n",
       " [5, 1, 6]]"
      ]
     },
     "execution_count": 57,
     "metadata": {},
     "output_type": "execute_result"
    }
   ],
   "source": [
    "xi.get_adjacency_list()"
   ]
  },
  {
   "cell_type": "code",
   "execution_count": 61,
   "id": "51ffa432-546c-45a6-b13b-618a64a92614",
   "metadata": {
    "tags": []
   },
   "outputs": [
    {
     "name": "stderr",
     "output_type": "stream",
     "text": [
      "2023-03-14 23:53:33.506647: E tensorflow/compiler/xla/stream_executor/cuda/cuda_driver.cc:267] failed call to cuInit: CUDA_ERROR_NO_DEVICE: no CUDA-capable device is detected\n",
      "2023-03-14 23:53:33.506692: I tensorflow/compiler/xla/stream_executor/cuda/cuda_diagnostics.cc:156] kernel driver does not appear to be running on this host (ip-172-16-63-55.ec2.internal): /proc/driver/nvidia/version does not exist\n",
      "2023-03-14 23:53:33.507669: I tensorflow/core/platform/cpu_feature_guard.cc:193] This TensorFlow binary is optimized with oneAPI Deep Neural Network Library (oneDNN) to use the following CPU instructions in performance-critical operations:  AVX2 AVX512F FMA\n",
      "To enable them in other operations, rebuild TensorFlow with the appropriate compiler flags.\n"
     ]
    },
    {
     "data": {
      "text/plain": [
       "0.11190651893615723"
      ]
     },
     "execution_count": 61,
     "metadata": {},
     "output_type": "execute_result"
    }
   ],
   "source": [
    "# Create and train the model.\n",
    "model = dc.models.GraphConvModel(n_tasks=1, mode='regression', dropout=0.2)\n",
    "model.fit(train_dataset, nb_epoch=100)\n"
   ]
  },
  {
   "cell_type": "code",
   "execution_count": 62,
   "id": "1ce188ca-f606-4b8e-be0d-40c250507046",
   "metadata": {
    "tags": []
   },
   "outputs": [
    {
     "name": "stdout",
     "output_type": "stream",
     "text": [
      "Model: \"private__graph_conv_keras_model\"\n",
      "_________________________________________________________________\n",
      " Layer (type)                Output Shape              Param #   \n",
      "=================================================================\n",
      " graph_conv (GraphConv)      multiple                  102144    \n",
      "                                                                 \n",
      " graph_conv_1 (GraphConv)    multiple                  87360     \n",
      "                                                                 \n",
      " batch_normalization (BatchN  multiple                 256       \n",
      " ormalization)                                                   \n",
      "                                                                 \n",
      " batch_normalization_1 (Batc  multiple                 256       \n",
      " hNormalization)                                                 \n",
      "                                                                 \n",
      " batch_normalization_2 (Batc  multiple                 512       \n",
      " hNormalization)                                                 \n",
      "                                                                 \n",
      " dropout (Dropout)           multiple                  0         \n",
      "                                                                 \n",
      " dropout_1 (Dropout)         multiple                  0         \n",
      "                                                                 \n",
      " dropout_2 (Dropout)         multiple                  0         \n",
      "                                                                 \n",
      " graph_pool (GraphPool)      multiple                  0         \n",
      "                                                                 \n",
      " graph_pool_1 (GraphPool)    multiple                  0         \n",
      "                                                                 \n",
      " dense (Dense)               multiple                  8320      \n",
      "                                                                 \n",
      " graph_gather (GraphGather)  multiple                  0         \n",
      "                                                                 \n",
      " trim_graph_output (TrimGrap  multiple                 0         \n",
      " hOutput)                                                        \n",
      "                                                                 \n",
      " dense_1 (Dense)             multiple                  257       \n",
      "                                                                 \n",
      "=================================================================\n",
      "Total params: 199,105\n",
      "Trainable params: 198,593\n",
      "Non-trainable params: 512\n",
      "_________________________________________________________________\n"
     ]
    }
   ],
   "source": [
    "model.model.summary()"
   ]
  },
  {
   "cell_type": "code",
   "execution_count": 66,
   "id": "73388396-76b4-41d8-a70a-c79066f02abf",
   "metadata": {
    "tags": []
   },
   "outputs": [
    {
     "name": "stdout",
     "output_type": "stream",
     "text": [
      "Training set score\n",
      "{'pearson_r2_score': 0.9059922981161767}\n",
      "Test set score\n",
      "{'pearson_r2_score': 0.6375420165259792}\n",
      "\n",
      "Molecule: COC(C)(C)CCCC(C)CC=CC(C)=CC(=O)OC(C)C\n",
      "Predicted solubility: [-0.5781958]\n",
      "\n",
      "Molecule: CCOC(=O)CC\n",
      "Predicted solubility: [1.6277117]\n",
      "\n",
      "Molecule: CSc1nc(NC(C)C)nc(NC(C)C)n1\n",
      "Predicted solubility: [-0.04411773]\n",
      "\n",
      "Molecule: CC(C#C)N(C)C(=O)Nc1ccc(Cl)cc1\n",
      "Predicted solubility: [0.08592789]\n",
      "\n",
      "Molecule: Cc1cc2ccccc2cc1C\n",
      "Predicted solubility: [-0.33509737]\n"
     ]
    }
   ],
   "source": [
    "# Evaluate it.\n",
    "\n",
    "metric = dc.metrics.Metric(dc.metrics.pearson_r2_score)\n",
    "print(\"Training set score\")\n",
    "print(model.evaluate(train_dataset, [metric], transformers))\n",
    "print(\"Test set score\")\n",
    "print(model.evaluate(test_dataset, [metric], transformers))\n",
    "\n",
    "# Use it to predict the solubility of some molecules.\n",
    "\n",
    "smiles = ['COC(C)(C)CCCC(C)CC=CC(C)=CC(=O)OC(C)C',\n",
    "          'CCOC(=O)CC',\n",
    "          'CSc1nc(NC(C)C)nc(NC(C)C)n1',\n",
    "          'CC(C#C)N(C)C(=O)Nc1ccc(Cl)cc1',\n",
    "          'Cc1cc2ccccc2cc1C']\n",
    "from rdkit import Chem\n",
    "mols = [Chem.MolFromSmiles(s) for s in smiles]\n",
    "featurizer = dc.feat.ConvMolFeaturizer()\n",
    "x = featurizer.featurize(mols)\n",
    "predicted_solubility = model.predict_on_batch(x)\n",
    "for m,s in zip(smiles, predicted_solubility):\n",
    "    print()\n",
    "    print('Molecule:', m)\n",
    "    print('Predicted solubility:', s)"
   ]
  },
  {
   "cell_type": "markdown",
   "id": "ff785b49-30e5-4db3-a58a-b3c2ebd47e57",
   "metadata": {},
   "source": [
    "## Genomic Prediction"
   ]
  },
  {
   "cell_type": "markdown",
   "id": "ad9185ea-a0c6-4f62-9e72-8a182305bfce",
   "metadata": {},
   "source": [
    "#### Prediction of Chrom Accessbility"
   ]
  },
  {
   "cell_type": "code",
   "execution_count": 95,
   "id": "af288c91-0708-40ed-88b7-497db482d4a0",
   "metadata": {
    "tags": []
   },
   "outputs": [
    {
     "name": "stdout",
     "output_type": "stream",
     "text": [
      "Archive:  data/dnabinding.zip\n",
      " extracting: data/DNABinding/test_dataset/metadata.csv.gzip  \n",
      "  inflating: data/DNABinding/test_dataset/shard-0-ids.joblib  \n",
      "  inflating: data/DNABinding/test_dataset/shard-0-w.joblib  \n",
      "  inflating: data/DNABinding/test_dataset/shard-0-X.joblib  \n",
      "  inflating: data/DNABinding/test_dataset/shard-0-y.joblib  \n",
      " extracting: data/DNABinding/test_dataset/tasks.json  \n",
      " extracting: data/DNABinding/train_dataset/metadata.csv.gzip  \n",
      "  inflating: data/DNABinding/train_dataset/shard-0-ids.joblib  \n",
      "  inflating: data/DNABinding/train_dataset/shard-0-w.joblib  \n",
      "  inflating: data/DNABinding/train_dataset/shard-0-X.joblib  \n",
      "  inflating: data/DNABinding/train_dataset/shard-0-y.joblib  \n",
      " extracting: data/DNABinding/train_dataset/tasks.json  \n",
      " extracting: data/DNABinding/valid_dataset/metadata.csv.gzip  \n",
      "  inflating: data/DNABinding/valid_dataset/shard-0-ids.joblib  \n",
      "  inflating: data/DNABinding/valid_dataset/shard-0-w.joblib  \n",
      "  inflating: data/DNABinding/valid_dataset/shard-0-X.joblib  \n",
      "  inflating: data/DNABinding/valid_dataset/shard-0-y.joblib  \n",
      " extracting: data/DNABinding/valid_dataset/tasks.json  \n"
     ]
    }
   ],
   "source": [
    "! mkdir data/DNABinding\n",
    "! unzip data/dnabinding.zip -d data/DNABinding"
   ]
  },
  {
   "cell_type": "code",
   "execution_count": 96,
   "id": "00d68969-fbb1-4740-8357-5d9d4c6272e9",
   "metadata": {
    "tags": []
   },
   "outputs": [],
   "source": [
    "# Load the data.\n",
    "train = dc.data.DiskDataset('data/DNABinding/train_dataset/')\n",
    "valid = dc.data.DiskDataset('data/DNABinding/test_dataset/')\n",
    "\n"
   ]
  },
  {
   "cell_type": "code",
   "execution_count": 23,
   "id": "4e2a554f-476d-4a9f-b75f-6ab9a0ec7e06",
   "metadata": {},
   "outputs": [
    {
     "data": {
      "text/html": [
       "<img src=\"assets/accessiblity.jpg\" width=\"600\" height=\"600\"/>"
      ],
      "text/plain": [
       "<IPython.core.display.Image object>"
      ]
     },
     "execution_count": 23,
     "metadata": {},
     "output_type": "execute_result"
    }
   ],
   "source": [
    "# get the image\n",
    "Image(url=\"assets/accessiblity.jpg\", width=600, height=600)"
   ]
  },
  {
   "cell_type": "markdown",
   "id": "e86923b4-1610-40f6-8edb-30401b490878",
   "metadata": {},
   "source": [
    "Chromatin is the complex of DNA and proteins that make up the chromosomes in a cell's nucleus. Chromatin can be more or less accessible, depending on the presence of specific proteins and chemical modifications. When chromatin is highly accessible, it is more likely to be transcribed into RNA. When it is less accessible, transcription is less likely to occur."
   ]
  },
  {
   "cell_type": "code",
   "execution_count": 98,
   "id": "cc983a18-8bc4-4d60-9e6e-58ef671fb798",
   "metadata": {
    "tags": []
   },
   "outputs": [],
   "source": [
    "import deepchem as dc\n",
    "import tensorflow as tf\n",
    "import tensorflow.keras.layers as layers\n"
   ]
  },
  {
   "cell_type": "markdown",
   "id": "392d2c8b-4574-49aa-82aa-5635ab0d74ab",
   "metadata": {},
   "source": [
    "### Build Model"
   ]
  },
  {
   "cell_type": "code",
   "execution_count": 99,
   "id": "46810229-e2bf-4cd1-af75-58336fac6e38",
   "metadata": {
    "tags": []
   },
   "outputs": [],
   "source": [
    "features = tf.keras.Input(shape=(101, 4))\n",
    "prev = features\n",
    "for i in range(3):\n",
    "    prev = layers.Conv1D(filters=15, kernel_size=10, activation=tf.nn.relu, padding='same')(prev)\n",
    "    prev = layers.Dropout(rate=0.5)(prev)\n",
    "logits = layers.Dense(units=1)(layers.Flatten()(prev))\n",
    "output = layers.Activation(tf.math.sigmoid)(logits)\n",
    "keras_model = tf.keras.Model(inputs=features, outputs=[output, logits])\n",
    "model = dc.models.KerasModel(\n",
    "    keras_model,\n",
    "    loss=dc.models.losses.SigmoidCrossEntropy(),\n",
    "    output_types=['prediction', 'loss'],\n",
    "    batch_size=1000,\n",
    "    model_dir='tf')"
   ]
  },
  {
   "cell_type": "code",
   "execution_count": 100,
   "id": "ec47f69f-671e-4f58-8b0b-fccdc8ce9389",
   "metadata": {
    "tags": []
   },
   "outputs": [
    {
     "name": "stdout",
     "output_type": "stream",
     "text": [
      "Model: \"model_3\"\n",
      "_________________________________________________________________\n",
      " Layer (type)                Output Shape              Param #   \n",
      "=================================================================\n",
      " input_6 (InputLayer)        [(None, 101, 4)]          0         \n",
      "                                                                 \n",
      " conv1d (Conv1D)             (None, 101, 15)           615       \n",
      "                                                                 \n",
      " dropout_16 (Dropout)        (None, 101, 15)           0         \n",
      "                                                                 \n",
      " conv1d_1 (Conv1D)           (None, 101, 15)           2265      \n",
      "                                                                 \n",
      " dropout_17 (Dropout)        (None, 101, 15)           0         \n",
      "                                                                 \n",
      " conv1d_2 (Conv1D)           (None, 101, 15)           2265      \n",
      "                                                                 \n",
      " dropout_18 (Dropout)        (None, 101, 15)           0         \n",
      "                                                                 \n",
      " flatten (Flatten)           (None, 1515)              0         \n",
      "                                                                 \n",
      " dense_31 (Dense)            (None, 1)                 1516      \n",
      "                                                                 \n",
      " activation_2 (Activation)   (None, 1)                 0         \n",
      "                                                                 \n",
      "=================================================================\n",
      "Total params: 6,661\n",
      "Trainable params: 6,661\n",
      "Non-trainable params: 0\n",
      "_________________________________________________________________\n"
     ]
    }
   ],
   "source": [
    "model.model.summary()"
   ]
  },
  {
   "cell_type": "code",
   "execution_count": 101,
   "id": "eead171e-2a7f-4bc9-b7e1-ed7dfa5830bf",
   "metadata": {
    "tags": []
   },
   "outputs": [
    {
     "data": {
      "text/plain": [
       "'ATAAAAGCCCAGAACTATGCCATGTATAGTAGGGCATATGAAAGAAATATAGGATGGTCCCTGTCCTCTAGGAGCTTACACTCTTACTGGAGAGACAAGAT'"
      ]
     },
     "execution_count": 101,
     "metadata": {},
     "output_type": "execute_result"
    }
   ],
   "source": [
    "DNA_str = 'ACGT'\n",
    "''.join([DNA_str[i] for i in train.X[0].argmax(axis=-1).tolist()])"
   ]
  },
  {
   "cell_type": "code",
   "execution_count": 106,
   "id": "f432805a-7225-48d8-bd44-79020550efba",
   "metadata": {
    "tags": []
   },
   "outputs": [
    {
     "data": {
      "text/plain": [
       "array([275048,   1168])"
      ]
     },
     "execution_count": 106,
     "metadata": {},
     "output_type": "execute_result"
    }
   ],
   "source": [
    "np.bincount(train.y.astype(int).flatten())"
   ]
  },
  {
   "cell_type": "code",
   "execution_count": 109,
   "id": "07f97326-463f-4ce9-9e90-f81ff989a7f8",
   "metadata": {
    "tags": []
   },
   "outputs": [
    {
     "name": "stdout",
     "output_type": "stream",
     "text": [
      "{'roc_auc_score': 0.5490733530558353}\n"
     ]
    }
   ],
   "source": [
    "# Train the model, tracking its performance on the training and validation datasets.\n",
    "\n",
    "metric = dc.metrics.Metric(dc.metrics.roc_auc_score)\n",
    "model.fit(train, nb_epoch=1)\n",
    "eval_res = model.evaluate(train, [metric])\n",
    "print(eval_res)"
   ]
  }
 ],
 "metadata": {
  "kernelspec": {
   "display_name": "conda_python3",
   "language": "python",
   "name": "conda_python3"
  },
  "language_info": {
   "codemirror_mode": {
    "name": "ipython",
    "version": 3
   },
   "file_extension": ".py",
   "mimetype": "text/x-python",
   "name": "python",
   "nbconvert_exporter": "python",
   "pygments_lexer": "ipython3",
   "version": "3.10.8"
  }
 },
 "nbformat": 4,
 "nbformat_minor": 5
}
